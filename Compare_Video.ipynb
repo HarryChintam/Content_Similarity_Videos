{
  "nbformat": 4,
  "nbformat_minor": 0,
  "metadata": {
    "colab": {
      "provenance": [],
      "authorship_tag": "ABX9TyO3zRa0t66YXT7tRDhEK0IV",
      "include_colab_link": true
    },
    "kernelspec": {
      "name": "python3",
      "display_name": "Python 3"
    },
    "language_info": {
      "name": "python"
    }
  },
  "cells": [
    {
      "cell_type": "markdown",
      "metadata": {
        "id": "view-in-github",
        "colab_type": "text"
      },
      "source": [
        "<a href=\"https://colab.research.google.com/github/HarryChintam/Content_Similarity_Videos/blob/POC/Compare_Video.ipynb\" target=\"_parent\"><img src=\"https://colab.research.google.com/assets/colab-badge.svg\" alt=\"Open In Colab\"/></a>"
      ]
    },
    {
      "cell_type": "code",
      "source": [
        "from google.colab import drive\n",
        "drive.mount('/content/drive')"
      ],
      "metadata": {
        "colab": {
          "base_uri": "https://localhost:8080/"
        },
        "id": "QFi8FRHMhs-s",
        "outputId": "72e6d7e4-3764-48eb-9ac7-4c0a3acc5cfe"
      },
      "execution_count": 23,
      "outputs": [
        {
          "output_type": "stream",
          "name": "stdout",
          "text": [
            "Mounted at /content/drive\n"
          ]
        }
      ]
    },
    {
      "cell_type": "code",
      "source": [
        "video_path1='/content/drive/My Drive/POC_Video1.mp4'\n",
        "video_path2='/content/drive/My Drive/POC_Video2.mp4'"
      ],
      "metadata": {
        "id": "OsvxbFTgh3F5"
      },
      "execution_count": 24,
      "outputs": []
    },
    {
      "cell_type": "code",
      "source": [
        "print(video_path1)\n",
        "print(video_path2)\n"
      ],
      "metadata": {
        "colab": {
          "base_uri": "https://localhost:8080/"
        },
        "id": "vgNIq3zth9vB",
        "outputId": "9b485f18-b33a-468d-c9a7-c32239f0e469"
      },
      "execution_count": 33,
      "outputs": [
        {
          "output_type": "stream",
          "name": "stdout",
          "text": [
            "/content/drive/My Drive/POC_Video1.mp4\n",
            "/content/drive/My Drive/POC_Video2.mp4\n"
          ]
        }
      ]
    },
    {
      "cell_type": "code",
      "source": [
        "import cv2\n",
        "from google.colab.patches import cv2_imshow\n",
        "cap1 = cv2.VideoCapture(video_path1)\n",
        "cap2 = cv2.VideoCapture(video_path2)\n",
        "\n"
      ],
      "metadata": {
        "id": "1sO3Lgdwi1kt"
      },
      "execution_count": 36,
      "outputs": []
    },
    {
      "cell_type": "code",
      "source": [
        "# import cv2\n",
        "# from google.colab.patches import cv2_imshow\n",
        "\n",
        "# while cap.isOpened():\n",
        "#     ret, frame = cap.read()\n",
        "#     if not ret:\n",
        "#         break\n",
        "\n",
        "#     # Display the frame using cv2_imshow\n",
        "#     cv2_imshow(frame)\n",
        "\n",
        "#     # Wait for a short period to simulate video playback\n",
        "#     if cv2.waitKey(1) & 0xFF == ord('q'):\n",
        "#         break\n",
        "\n",
        "# cap.release()\n",
        "# cv2.destroyAllWindows()\n"
      ],
      "metadata": {
        "id": "WfA5naU3jCVe"
      },
      "execution_count": null,
      "outputs": []
    },
    {
      "cell_type": "code",
      "execution_count": 30,
      "metadata": {
        "id": "El1uTfntY8_i"
      },
      "outputs": [],
      "source": [
        "import cv2\n",
        "import torch\n",
        "import torchvision.transforms as transforms\n",
        "from torchvision.models import resnet50\n",
        "from scipy.spatial.distance import cosine\n",
        "\n",
        "# Load a pre-trained ResNet model\n",
        "model = resnet50(pretrained=True)\n",
        "model.eval()\n",
        "\n",
        "# Define a transform to preprocess the frames\n",
        "preprocess = transforms.Compose([\n",
        "    transforms.ToPILImage(),\n",
        "    transforms.Resize(256),\n",
        "    transforms.CenterCrop(224),\n",
        "    transforms.ToTensor(),\n",
        "    transforms.Normalize(mean=[0.485, 0.456, 0.406], std=[0.229, 0.224, 0.225]),\n",
        "])\n",
        "\n",
        "def extract_features(frame):\n",
        "    \"\"\"Extract features from a single video frame.\"\"\"\n",
        "    input_tensor = preprocess(frame)\n",
        "    input_batch = input_tensor.unsqueeze(0)\n",
        "\n",
        "    with torch.no_grad():\n",
        "        features = model(input_batch)\n",
        "\n",
        "    return features.squeeze().numpy()\n",
        "\n",
        "def compare_videos(video_path1, video_path2, threshold=0.5):\n",
        "    \"\"\"Compare two videos and print matching times.\"\"\"\n",
        "    cap1 = cv2.VideoCapture(video_path1)\n",
        "    cap2 = cv2.VideoCapture(video_path2)\n",
        "\n",
        "    if not cap1.isOpened():\n",
        "        print(f\"Error: Could not open video {video_path1}\")\n",
        "        return\n",
        "\n",
        "    if not cap2.isOpened():\n",
        "        print(f\"Error: Could not open video {video_path2}\")\n",
        "        return\n",
        "\n",
        "    fps1 = cap1.get(cv2.CAP_PROP_FPS)\n",
        "    fps2 = cap2.get(cv2.CAP_PROP_FPS)\n",
        "\n",
        "    frame_number1 = 0\n",
        "\n",
        "    while cap1.isOpened():\n",
        "        ret1, frame1 = cap1.read()\n",
        "        if not ret1:\n",
        "            break\n",
        "\n",
        "        frame_number2 = 0\n",
        "        cap2.set(cv2.CAP_PROP_POS_FRAMES, 0)  # Reset second video to start\n",
        "\n",
        "        features1 = extract_features(frame1)\n",
        "\n",
        "        while cap2.isOpened():\n",
        "            ret2, frame2 = cap2.read()\n",
        "            if not ret2:\n",
        "                break\n",
        "\n",
        "            features2 = extract_features(frame2)\n",
        "            similarity = 1 - cosine(features1, features2)\n",
        "\n",
        "            if similarity > threshold:\n",
        "                time1 = frame_number1 / fps1\n",
        "                time2 = frame_number2 / fps2\n",
        "                print(f\"Match found: Video 1 at {time1:.2f}s and Video 2 at {time2:.2f}s\")\n",
        "\n",
        "            frame_number2 += 1\n",
        "\n",
        "        frame_number1 += 1\n",
        "\n",
        "    cap1.release()\n",
        "    cap2.release()\n",
        "\n",
        "# Example usage:\n",
        "compare_videos('video1.mp4', 'video2.mp4', threshold=0.8)"
      ]
    },
    {
      "cell_type": "code",
      "source": [],
      "metadata": {
        "id": "6JlmUSeHh9JT"
      },
      "execution_count": null,
      "outputs": []
    }
  ]
}