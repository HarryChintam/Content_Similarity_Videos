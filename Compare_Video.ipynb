{
  "nbformat": 4,
  "nbformat_minor": 0,
  "metadata": {
    "colab": {
      "provenance": [],
      "authorship_tag": "ABX9TyMui+yxZ/KVE+c2vMfuwNV8",
      "include_colab_link": true
    },
    "kernelspec": {
      "name": "python3",
      "display_name": "Python 3"
    },
    "language_info": {
      "name": "python"
    }
  },
  "cells": [
    {
      "cell_type": "markdown",
      "metadata": {
        "id": "view-in-github",
        "colab_type": "text"
      },
      "source": [
        "<a href=\"https://colab.research.google.com/github/HarryChintam/Content_Similarity_Videos/blob/POC/Compare_Video.ipynb\" target=\"_parent\"><img src=\"https://colab.research.google.com/assets/colab-badge.svg\" alt=\"Open In Colab\"/></a>"
      ]
    },
    {
      "cell_type": "code",
      "execution_count": 4,
      "metadata": {
        "id": "El1uTfntY8_i"
      },
      "outputs": [],
      "source": [
        "import cv2\n",
        "import torch\n",
        "import torchvision.transforms as transforms\n",
        "from torchvision.models import resnet50\n",
        "from scipy.spatial.distance import cosine\n",
        "\n",
        "# Load a pre-trained ResNet model\n",
        "model = resnet50(pretrained=True)\n",
        "model.eval()\n",
        "\n",
        "# Define a transform to preprocess the frames\n",
        "preprocess = transforms.Compose([\n",
        "    transforms.ToPILImage(),\n",
        "    transforms.Resize(256),\n",
        "    transforms.CenterCrop(224),\n",
        "    transforms.ToTensor(),\n",
        "    transforms.Normalize(mean=[0.485, 0.456, 0.406], std=[0.229, 0.224, 0.225]),\n",
        "])\n",
        "\n",
        "def extract_features(frame):\n",
        "    \"\"\"Extract features from a single video frame.\"\"\"\n",
        "    input_tensor = preprocess(frame)\n",
        "    input_batch = input_tensor.unsqueeze(0)\n",
        "\n",
        "    with torch.no_grad():\n",
        "        features = model(input_batch)\n",
        "\n",
        "    return features.squeeze().numpy()\n",
        "\n",
        "video_path1='https://drive.google.com/file/d/1KlS09o9PWtuaHeH7M2XzIJcWt-s0MNXl/view?usp=drive_link'\n",
        "video_path2='https://drive.google.com/file/d/1b16MA-da6flZt_VlaroVB4fjvphogIsj/view?usp=drive_link'\n",
        "\n",
        "\n",
        "\n",
        "def compare_videos(video_path1, video_path2, threshold=0.5):\n",
        "    \"\"\"Compare two videos and print matching times.\"\"\"\n",
        "    cap1 = cv2.VideoCapture(video_path1)\n",
        "    cap2 = cv2.VideoCapture(video_path2)\n",
        "\n",
        "    fps1 = cap1.get(cv2.CAP_PROP_FPS)\n",
        "    fps2 = cap2.get(cv2.CAP_PROP_FPS)\n",
        "\n",
        "    frame_number1 = 0\n",
        "\n",
        "    while cap1.isOpened():\n",
        "        ret1, frame1 = cap1.read()\n",
        "        if not ret1:\n",
        "            break\n",
        "\n",
        "        frame_number2 = 0\n",
        "        cap2.set(cv2.CAP_PROP_POS_FRAMES, 0)  # Reset second video to start\n",
        "\n",
        "        features1 = extract_features(frame1)\n",
        "\n",
        "        while cap2.isOpened():\n",
        "            ret2, frame2 = cap2.read()\n",
        "            if not ret2:\n",
        "                break\n",
        "\n",
        "            features2 = extract_features(frame2)\n",
        "            similarity = 1 - cosine(features1, features2)\n",
        "\n",
        "            if similarity > threshold:\n",
        "                time1 = frame_number1 / fps1\n",
        "                time2 = frame_number2 / fps2\n",
        "                print(f\"Match found: Video 1 at {time1:.2f}s and Video 2 at {time2:.2f}s\")\n",
        "\n",
        "            frame_number2 += 1\n",
        "\n",
        "        frame_number1 += 1\n",
        "\n",
        "    cap1.release()\n",
        "    cap2.release()\n",
        "\n",
        "# Example usage:\n",
        "compare_videos('video1.mp4', 'video2.mp4', threshold=0.8)"
      ]
    }
  ]
}